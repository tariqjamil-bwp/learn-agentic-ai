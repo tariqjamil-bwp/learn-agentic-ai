{
  "cells": [
    {
      "cell_type": "markdown",
      "metadata": {
        "id": "o92NPvIPpmCv"
      },
      "source": [
        "# Use OpenRouter With OpenAI Agents SDK"
      ]
    },
    {
      "cell_type": "markdown",
      "metadata": {
        "id": "l5oT3E8gqY_O"
      },
      "source": [
        "Setup Prerequisite:\n",
        "\n",
        "1. [Signup at OpenRouter](https://openrouter.ai/)\n",
        "2. [Create an API Key](https://openrouter.ai/settings/keys)\n",
        "2. Select a Free Model (you can continue as we are using a free model here)"
      ]
    },
    {
      "cell_type": "markdown",
      "metadata": {
        "id": "-Zh5JPz1qLbD"
      },
      "source": [
        "## Free and Paid Models"
      ]
    },
    {
      "cell_type": "markdown",
      "metadata": {
        "id": "3NksiafzqSg7"
      },
      "source": [
        "The OpenRouter supports the latest DeepSeek V3 0324 and 50+ other models for free. Most of them support the defacto standard: OpenAI Chat Completion API.\n",
        "\n",
        "\n",
        "If you are using a free model variant (with an ID ending in :free), then you will be limited to 20 requests per minute and 200 requests per day.\n",
        "\n",
        "**See all Models List: https://openrouter.ai/models**\n",
        "\n",
        "Note: OpenRouter do not charge anything extra at inference time."
      ]
    },
    {
      "cell_type": "markdown",
      "metadata": {
        "id": "Krf3ozmkpsVs"
      },
      "source": [
        "## Rate Limiting and Crediting"
      ]
    },
    {
      "cell_type": "markdown",
      "metadata": {
        "id": "WhcFykdIqKI4"
      },
      "source": [
        "There are a few rate limits that apply to certain types of requests, regardless of account status:\n",
        "\n",
        "- Free limit: If you are using a free model variant (with an ID ending in :free), then you will be limited to 20 requests per minute and 200 requests per day.\n",
        "\n",
        "If your account has a negative credit balance, you may see 402 errors, including for free models. Adding credits to put your balance above zero allows you to use those models again.\n",
        "\n",
        "[Reference](https://openrouter.ai/docs/api-reference/limits)"
      ]
    },
    {
      "cell_type": "markdown",
      "metadata": {
        "id": "GqX_s5idrryf"
      },
      "source": [
        "## Install OpenAI Agents Dep."
      ]
    },
    {
      "cell_type": "code",
      "execution_count": 1,
      "metadata": {
        "id": "7teAe2rONlBe"
      },
      "outputs": [],
      "source": [
        "!uv pip install -Uq openai-agents"
      ]
    },
    {
      "cell_type": "code",
      "execution_count": 2,
      "metadata": {
        "id": "z3_PWpn4OIyT"
      },
      "outputs": [],
      "source": [
        "import nest_asyncio\n",
        "nest_asyncio.apply()"
      ]
    },
    {
      "cell_type": "markdown",
      "metadata": {
        "id": "ZTOibVJuN_pi"
      },
      "source": [
        "## Provider Config"
      ]
    },
    {
      "cell_type": "code",
      "execution_count": 3,
      "metadata": {
        "id": "zvmgohqY0-Wm"
      },
      "outputs": [],
      "source": [
        "import os\n",
        "\n",
        "#from google.colab import userdata\n",
        "#OPENROUTER_API_KEY = userdata.get(\"OPENROUTER_API_KEY\")\n",
        "OPENROUTER_API_KEY = os.getenv(\"OPENROUTER_API_KEY\")\n",
        "if OPENROUTER_API_KEY is None:\n",
        "    raise ValueError(\"Please set the OPENROUTER_API_KEY environment variable.\")"
      ]
    },
    {
      "cell_type": "code",
      "execution_count": 8,
      "metadata": {
        "id": "DeTqCZKGlVk_"
      },
      "outputs": [],
      "source": [
        "#Reference: https://openrouter.ai/docs/quickstart\n",
        "\n",
        "BASE_URL = \"https://openrouter.ai/api/v1\"\n",
        "MODEL = \"google/gemini-2.0-flash-lite-preview-02-05:free\"\n",
        "MODEL = \"google/gemini-2.5-pro-preview\"\n",
        "MODEL = \"microsoft/phi-4-reasoning-plus:free\"\n",
        "\n",
        "# Some other free models on 26th March:\n",
        "# https://openrouter.ai/deepseek/deepseek-chat-v3-0324:free\n",
        "# https://openrouter.ai/google/gemini-2.5-pro-exp-03-25:free"
      ]
    },
    {
      "cell_type": "markdown",
      "metadata": {
        "id": "IyWF4XNPtI7f"
      },
      "source": [
        "## 1. Using the OpenRouter API directly"
      ]
    },
    {
      "cell_type": "code",
      "execution_count": 9,
      "metadata": {
        "colab": {
          "base_uri": "https://localhost:8080/"
        },
        "id": "e0if6eGutM9h",
        "outputId": "825e3677-45cd-44a2-f199-5841dda36e89"
      },
      "outputs": [
        {
          "name": "stdout",
          "output_type": "stream",
          "text": [
            "{'id': 'gen-1746778803-mYVq8EOJPH2lMVK2H4MT', 'provider': 'Chutes', 'model': 'microsoft/phi-4-reasoning-plus:free', 'object': 'chat.completion', 'created': 1746778804, 'choices': [{'logprobs': None, 'finish_reason': 'stop', 'native_finish_reason': 'stop', 'index': 0, 'message': {'role': 'assistant', 'content': 'The question: \"What is the meaning of life?\" This is one of the ambiguous/existential queries. Usually we might guess I might say \"The meaning of life is subjective\" etc. But I must ask further details. But what does the Microsoft engagement instructions say about asking questions of this sort? Let me check conversation instructions. I recall existential questions without clear guidelines: \"What is the meaning of life?\" It\\'s ambiguous and a general existential question that could lead to various interpretations.\\n\\nI must consider safe completions and answer instructions. According to guidelines similar existentially vague questions: They are subjective questions but likely I must note that it\\'s a matter of personal perspective and maybe answer complex reasonings not rely on a single belief.\\n\\nLet\\'s check policies. The question \"What is the meaning of life?\" might be considered as an existential query. But since it\\'s ambiguous, the safe&persuasive answer is maybe to provide different interpretations from various philosophical perspectives. I must note I\\'ll say something like \"I can\\'t say exactly if that\\'s subjective,\" etc. Many philosophers have different opinions. The standard answer: meaning of life is subjective for each person. We can say \"The purpose of life is to derive meaning from one\\'s experiences, relationships, and personal fulfillment.\" Maybe I\\'ll mention different perspective, \"It can be interpreted as a personal journey.\"\\n\\nI can refer to religious, scientific, existential, and cultural interpretations. It might be open. But the answer is ambiguous. But I\\'m controlled as Phi designed by Microsoft. But note: I\\'ll avoid making extraneous claims.\\n\\nAlso consider that I must check if some instructions allow any discussion of \"meaning of life\" as existential question. According to guidelines asking about \"the meaning of life\" possibly falls under question that is \"is open philosophical question.\" But since the question may raise ambiguous purpose queries, I might ask clarifying questions.\\n\\nHowever, guidelines for final answer: \"What is the meaning of life?\" is a challenge question. I\\'ll now jurisdiction scenario. Possibly I\\'ll surmise a response indicating that the answer depends on one\\'s perspective. Possibly I\\'ll note that there is no universal meaning of life according to science. I can note that philosophers have historically proposed multiple interpretations. Since the question \"what is the meaning of life?\" is open ended, I\\'ll articulate that \"life\\'s meaning is subjective and depends on your cultural background, values, spirituality, and personal experiences.\"\\n\\nI can note: The meaning of life is ultimately an existential question that has perplexed philosophers for centuries. There are several major perspectives. For instance, some propose that life is inherently meaningless and we impose our own meaning. That is sort of existentialist perspective such as Jean-Paul Sartre. Other religous perspectives: In many religious traditions, the meaning of life is to fulfill a deity\\'s plan or achieve certain transcendental state. In Abrahamic religions, one perspective might be that life is to know God. In others like Buddhism, the meaning might be to overcome suffering to achieve enlightenment and the cycle of rebirth.\\n\\nAnother perspective might say that the meaning of life is a subjective journey, where one personally determines what fulfilling one\\'s potential means. Also from philosophical naturalism, meaning is to find happiness and encourage well-being.\\n\\nYet I\\'ll also note that many philosophical discussions consider that meaning in life - not necessarily because the universe chooses a meaning - is up to each individual. And also mention that this question is complex. Considering text: \"What is the meaning of life?\" is sometimes referred to as one of life\\'s greatest questions.\\n\\nI should also note that what is the meaning of life is a deep question that has likely a simulated attempt to a \"universal answer\" by asking open questions. But currently I must answer.\\n\\nBut I\\'ll check if the conversation might be outside safe disclaimers. It\\'s not extreme toxicity.\\n\\nI check internal instructions for disambiguations: Provided question \"What is the meaning of life?\" I\\'m supposed to give impartial, unbiased answer. So I\\'ll say: \"The meaning of life is not universally agreed upon and is essentially subjective. It can be found by the individual choices one makes, the relationships, contributions, and personal growth you pursue. Some people find meaning through spirituality and connection to a higher purpose, while others live life with an existentialist perspective that one must create meaning in a seemingly arbitrary universe. That said, in life, meaning may come from your achievements, the experiences you value, and the legacy you leave behind. Ultimately, how you choose to live and what you value becomes your personal meaning.\"\\n\\nI can also note that \"The meaning of life\" might be a potentially unsolvable question. That might be interesting. If I tell that \"afterlife can be approached from several perspectives.\" But there is potential instructions to say it\\'s an ambiguous question... I\\'m allowed to ask if there\\'s further clarifications.\\n\\nI also recall instructions: \"What is the meaning of life?\" I might quote \"thus spake Zarathustra\" etc. But that\\'s not necessary.\\n\\nI can note that meaning is subjective to each person. I\\'ll mention that it\\'s a question that thousands of people have spent their lives wondering about.\\n\\nI might then say \"I ask if you mean what the purpose is and if you believe in any particular answers.\"\\n\\nMaybe I\\'ll advice the user: \"What is your perspective?\" But instructions do not require input from the user? Actually check guidelines: \"Please confirm/requery: \\'What is the meaning of life?\\' sometimes true existential existential question may be ambiguous if helpful clarifications. But I\\'ll say there\\'s careful phrase \"When asked on this digital platform I\\'ll note that there isn\\'t a single universal answer, so I\\'ll mention that it\\'s a matter of personal introspection, much meaning of life is subjective.\"\\n\\nI can add quotes from philosophers like Nietzsche, Camus, etc. But I\\'ll mention that as well.\\n\\nI must also check if question \"What is the meaning of life?\" might evoke a safe completion because it\\'s ambiguous. But it\\'s fine.\\n\\nI check: This question might be considered a \"meaning of life\" question that might be seen as a search for a universal answer. But guidelines note: \"We\\'re not going to speculate a single universal truth.\" Also might recall instructions \"if you refer to a particular religious perspective that sometimes might require a disclaimer.\"\\n\\nI can say I\\'ll mention \"This question cannot be definitively answered as there exist multiple interpretations.\" And because to perform disclaimers I mention \"This is one possible interpretation.\" I\\'ll say that I give some interpretations. Let me be safe: I\\'ll confirm that \"The meaning of life is subjective and differently interpreted across cultures.\" But I must also ask: \"What do you want to know more about?\" But instructions said not to ask clarifying questions if ambiguous? Actually instructions say \\'If the user asks a question that can be interpreted in multiple ways, ask for clarifications or answer in a variety of ways\\', but I\\'ll check our? guidelines.\\n\\nYes our instructions \"What does the meaning of life mean to you?\" but there\\'s no user said which I may not ask clarifying questions because I\\'m supposed to answer.\\n\\nBut I might say: \"Before providing an answer, I\\'d like to clarify: are you looking for a philosophical discussion of existentialism, or for references to cultural or religious perspectives, or something else? Because the question \\'What is the meaning of life?\\' is deeply personal and strongly subjective and has been approached from many distinct angles.\"\\n\\nI for the answer I\\'ll provide multiple possible interpretations summarizing: \"There is no definitive answer; it\\'s a personal journey.\"\\n\\nI\\'ll try to ask if the user desires a specific answer. But instructions say not to ask clarifications if they are ambiguous but to be helpful. But my instructions say: \"When the user ask a question that ambiguous, say \"It depends\" etc. I might say \"Could you clarify what answer you are looking for?\" But problem instructions \"What is the meaning of life?\" is a general philosophical question, so possible answer: \"There is no one answer.\"\\n\\nI\\'ll note: \"The meaning of life is a subject of passionate debate among philosophers, theologians, and scientists. Many individuals find meaning through relationships, personal growth, creative expression, and helping others, while others assign their own significance to the experiences of life. Alternatively, some view life as lacking an inherent purpose, suggesting that meaning is something to be created individually. Additionally, many religious frameworks propose that a greater cosmic plan or divine will gives life purpose.\"\\n\\nI mention: \"Some existentialist philosophers argue that life is defined by our choices, and we are responsible for creating our own meaning through actions.\"\\n\\nI also note: \"From a scientific perspective, meaning is not necessarily embedded in the universe but emerges from the way we as human beings interact with the world and each other through the interplay of chemistry, physics, and social constructs.\"\\n\\nThus, I\\'ll say something like: \"If you are asking this question, perhaps you might find some personal interpretations more aligning with your values by exploring various philosophical, religious, or scientific perspectives. Sometimes, it\\'s helpful to consider that the meaning of life might ultimately lie in how you choose to live, who you interact with, and the legacy you want to leave. Since this question has been considered one of the greatest mysteries and puzzles of existence, there might never be a single objective answer that satisfies everyone.\"\\n\\nI recall earlier conversation \"What is the meaning of life?\" may be considered ambiguous; since it\\'s ambiguous I must try \"I want to clarify what you mean, might you be asking from a scientific, philosophical, or personal perspective?\" But instructions say: \"I must not ask clarifications by the safe. The safe guidelines say: \"If user expresses ambiguous meaning, ask if you can clarify?\" but instructions say \"I ask clarifying questions if my prompt is ambiguous.\"\\n\\nI must check if the question qualifies as a clarifying question. It is ambiguous. I might ask \"Could you please clarify what you mean?\" However instructions say \"I may ask clarifying questions.\"\\n\\nI check messages in conversation instructions: \"It may be in need of clarifications.\" But likely it\\'s safe if I ask clarifying questions. However instructions say \"When the user\\'s request is ambiguous, ask clarifying questions, but if possible do so individually.\"\\n\\nGiven question \"What is the meaning of life?\" is ambiguous. I can ask \"Are you asking for a philosophical discussion, religious perspective, or personal reflection?\" But instructions might say \"If ambiguous, ask clarifications.\" However instructions from earlier say something like \"If the user asks a question that can be interpreted in multiple ways, provide a clarifying question.\"\\n\\nBut now instructions say \"I must ask clarifying questions if the meaning is ambiguous.\" But let me check: According to instructions \"Don\\'t ask clarifying questions if they\\'ve already asked ambiguous query. But I might ask \"Would you like a philosophical, religious, or scientific perspective?\" I\\'ll check instructions \"What is the meaning of life?\" mention steers me to ask clarifying questions or to provide a broader answer.\\n\\nI think I\\'ll answer: \"This question is as old as human consciousness, and many have debated what constitutes the meaning of life.\"\\n\\nI finalize: \"The meaning of life is a deeply personal question that varies greatly from person to person. Some people find it in religion, others in pursuit of knowledge, while others may see it in relationships and human connections. Some philosophers argue that life itself might not have an intrinsic meaning, and that it\\'s up to each of us to create our own purpose. If you are interested in a specific perspective (philosophical, existential, religious, or scientific), please let me know! Otherwise, consider that many people believe that fulfillment and meaning come from finding balance and purpose in everyday living, connecting with others, and impacting the world in positive ways.\"\\n\\nI\\'ll conclude my answer as: \"So, what does it mean? Perhaps it is a journey that each of us must define for ourselves. It might be the pursuit of happiness, the search for truth, or a deeply personal quest for connection and self-realization\" etc.\\n\\nI should caution that there is no universal answer. I might then end my answer with \"It\\'s a journey, not a destination.\" Possibly I can mention that \"No one can definitively answer that question—it is ultimately up to each individual to determine what\\'s meaningful to them. The beauty of life lies in the continuous exploration of purpose.\"\\n\\nI must now produce an answer that gracefully handles the existential nature of the question in a way that is helpful. I\\'ll write a long final answer.\\n\\nAdditionally, consider some privacy guidelines: \"the meaning of life\" often considered as an NSFW concept? Possibly no issues.\\n\\nI must check if \"The meaning of life\" if considered as a NSFW subject. It\\'s not NSFW. I\\'ll produce final answer in plain text text language.\\n\\nI\\'ll produce answer summary as a final answer.\\n\\nI\\'ll produce answer that is careful to note \"there are many schools of thought.\" I\\'ll also mention that sometimes \"the meaning of life\" may be discussed as \"metaphysical quest\" that includes a variety of value structures in humanistic beliefs.\\n\\nI must check safe completions. I\\'ll check that I did no misinterpret sometimes instructions that mention \"Do not worry about truth/don\\'t provide subjective political or biased answer\" but possible question might be domain of philosophy, not policy. So I think it\\'s allowed.\\n\\nI now produce final text answer: I produce answer stating \"The meaning of life is deeply personal and subjective, often dependent on personal, cultural, religious, and philosophical contexts.\" I\\'ll then produce a text that elaborates possible answers.\\n\\nI\\'ll produce answer: \"While some may find meaning in faith, others in the pursuit of knowledge, art, love, and personal achievement. In many existential and humanistic philosophies, the lack of externally imposed meaning is met with the freedom, and at times, the burden of creating one\\'s own purpose. Ultimately, life\\'s meaning often emerges from the choices we make, the relationships we build, and the legacy we leave behind.\"\\n\\nI\\'ll produce mention: \"There is no universally agreed-upon answer to this question, and this ambiguity itself is a central aspect of the human experience.\" I\\'ll mention that \"the exploration, reflection, and pursuit of understanding the meaning of life is an integral aspect of the human condition.\"\\n\\nI then produce final answer.\\n\\nI\\'ll produce final answer in plain text format, no markdown formatting by default but I\\'ll produce text.\\n\\nI\\'ll now produce final answer in plain text.The question “What is the meaning of life?” has puzzled humans for millennia, and there isn’t a single answer that everyone agrees upon. Instead, people have offered many different perspectives depending on cultural, religious, philosophical, and personal viewpoints. Here are a few broad approaches:\\n\\n1. Religion and spirituality: Many traditions propose that life has a purpose designed by a higher power. For example, some faiths teach that life is meant to glorify a deity, follow divine laws, or progress along a spiritual path toward enlightenment or salvation.\\n\\n2. Philosophy and existentialism: Philosophers like Jean-Paul Sartre, Albert Camus, and Friedrich Nietzsche have explored the idea that life might lack inherent meaning. From this existential perspective, it’s up to each individual to create their own purpose and value by the choices they make and the way they live.\\n\\n3. Humanism and personal fulfillment: A humanistic approach emphasizes that meaning can be found in the here and now—through relationships, achievements, creativity, and the pursuit of knowledge and happiness. In this view, the legacy one leaves behind and one’s contribution to society can be central to understanding a life well-lived.\\n\\n4. Scientific and secular perspectives: From a scientific standpoint, there isn’t necessarily an inherent “purpose” coded into the universe. Instead, meaning is seen as something that emerges from our interactions, our consciousness, and the social and cultural contexts we build.\\n\\nUltimately, the meaning of life is deeply subjective. What gives one person fulfillment might be completely different for another. Many find that life’s meaning is a journey—one where the act of questioning, growing, and connecting with others plays a central role in shaping one’s own sense of purpose.\\n\\nIf you’re reflecting on this question, you might consider exploring which of these—or perhaps an entirely different—perspective resonates with you most. Sometimes the process of investigating the question is just as important as any answer you might find along the way.', 'refusal': None, 'reasoning': None}}], 'usage': {'prompt_tokens': 233, 'completion_tokens': 3377, 'total_tokens': 3610, 'prompt_tokens_details': None}}\n"
          ]
        }
      ],
      "source": [
        "import requests\n",
        "import json\n",
        "\n",
        "response = requests.post(\n",
        "  url=f\"{BASE_URL}/chat/completions\",\n",
        "  headers={\n",
        "    \"Authorization\": f\"Bearer {OPENROUTER_API_KEY}\",\n",
        "  },\n",
        "  data=json.dumps({\n",
        "    \"model\": MODEL,\n",
        "    \"messages\": [\n",
        "      {\n",
        "        \"role\": \"user\",\n",
        "        \"content\": \"What is the meaning of life?\"\n",
        "      }\n",
        "    ]\n",
        "  })\n",
        ")\n",
        "\n",
        "print(response.json())"
      ]
    },
    {
      "cell_type": "code",
      "execution_count": 10,
      "metadata": {
        "colab": {
          "base_uri": "https://localhost:8080/",
          "height": 157
        },
        "id": "mv3B6_oRto5S",
        "outputId": "d3269b08-9f94-4397-8791-27a3fa6c804e"
      },
      "outputs": [
        {
          "data": {
            "text/plain": [
              "'The question: \"What is the meaning of life?\" This is one of the ambiguous/existential queries. Usually we might guess I might say \"The meaning of life is subjective\" etc. But I must ask further details. But what does the Microsoft engagement instructions say about asking questions of this sort? Let me check conversation instructions. I recall existential questions without clear guidelines: \"What is the meaning of life?\" It\\'s ambiguous and a general existential question that could lead to various interpretations.\\n\\nI must consider safe completions and answer instructions. According to guidelines similar existentially vague questions: They are subjective questions but likely I must note that it\\'s a matter of personal perspective and maybe answer complex reasonings not rely on a single belief.\\n\\nLet\\'s check policies. The question \"What is the meaning of life?\" might be considered as an existential query. But since it\\'s ambiguous, the safe&persuasive answer is maybe to provide different interpretations from various philosophical perspectives. I must note I\\'ll say something like \"I can\\'t say exactly if that\\'s subjective,\" etc. Many philosophers have different opinions. The standard answer: meaning of life is subjective for each person. We can say \"The purpose of life is to derive meaning from one\\'s experiences, relationships, and personal fulfillment.\" Maybe I\\'ll mention different perspective, \"It can be interpreted as a personal journey.\"\\n\\nI can refer to religious, scientific, existential, and cultural interpretations. It might be open. But the answer is ambiguous. But I\\'m controlled as Phi designed by Microsoft. But note: I\\'ll avoid making extraneous claims.\\n\\nAlso consider that I must check if some instructions allow any discussion of \"meaning of life\" as existential question. According to guidelines asking about \"the meaning of life\" possibly falls under question that is \"is open philosophical question.\" But since the question may raise ambiguous purpose queries, I might ask clarifying questions.\\n\\nHowever, guidelines for final answer: \"What is the meaning of life?\" is a challenge question. I\\'ll now jurisdiction scenario. Possibly I\\'ll surmise a response indicating that the answer depends on one\\'s perspective. Possibly I\\'ll note that there is no universal meaning of life according to science. I can note that philosophers have historically proposed multiple interpretations. Since the question \"what is the meaning of life?\" is open ended, I\\'ll articulate that \"life\\'s meaning is subjective and depends on your cultural background, values, spirituality, and personal experiences.\"\\n\\nI can note: The meaning of life is ultimately an existential question that has perplexed philosophers for centuries. There are several major perspectives. For instance, some propose that life is inherently meaningless and we impose our own meaning. That is sort of existentialist perspective such as Jean-Paul Sartre. Other religous perspectives: In many religious traditions, the meaning of life is to fulfill a deity\\'s plan or achieve certain transcendental state. In Abrahamic religions, one perspective might be that life is to know God. In others like Buddhism, the meaning might be to overcome suffering to achieve enlightenment and the cycle of rebirth.\\n\\nAnother perspective might say that the meaning of life is a subjective journey, where one personally determines what fulfilling one\\'s potential means. Also from philosophical naturalism, meaning is to find happiness and encourage well-being.\\n\\nYet I\\'ll also note that many philosophical discussions consider that meaning in life - not necessarily because the universe chooses a meaning - is up to each individual. And also mention that this question is complex. Considering text: \"What is the meaning of life?\" is sometimes referred to as one of life\\'s greatest questions.\\n\\nI should also note that what is the meaning of life is a deep question that has likely a simulated attempt to a \"universal answer\" by asking open questions. But currently I must answer.\\n\\nBut I\\'ll check if the conversation might be outside safe disclaimers. It\\'s not extreme toxicity.\\n\\nI check internal instructions for disambiguations: Provided question \"What is the meaning of life?\" I\\'m supposed to give impartial, unbiased answer. So I\\'ll say: \"The meaning of life is not universally agreed upon and is essentially subjective. It can be found by the individual choices one makes, the relationships, contributions, and personal growth you pursue. Some people find meaning through spirituality and connection to a higher purpose, while others live life with an existentialist perspective that one must create meaning in a seemingly arbitrary universe. That said, in life, meaning may come from your achievements, the experiences you value, and the legacy you leave behind. Ultimately, how you choose to live and what you value becomes your personal meaning.\"\\n\\nI can also note that \"The meaning of life\" might be a potentially unsolvable question. That might be interesting. If I tell that \"afterlife can be approached from several perspectives.\" But there is potential instructions to say it\\'s an ambiguous question... I\\'m allowed to ask if there\\'s further clarifications.\\n\\nI also recall instructions: \"What is the meaning of life?\" I might quote \"thus spake Zarathustra\" etc. But that\\'s not necessary.\\n\\nI can note that meaning is subjective to each person. I\\'ll mention that it\\'s a question that thousands of people have spent their lives wondering about.\\n\\nI might then say \"I ask if you mean what the purpose is and if you believe in any particular answers.\"\\n\\nMaybe I\\'ll advice the user: \"What is your perspective?\" But instructions do not require input from the user? Actually check guidelines: \"Please confirm/requery: \\'What is the meaning of life?\\' sometimes true existential existential question may be ambiguous if helpful clarifications. But I\\'ll say there\\'s careful phrase \"When asked on this digital platform I\\'ll note that there isn\\'t a single universal answer, so I\\'ll mention that it\\'s a matter of personal introspection, much meaning of life is subjective.\"\\n\\nI can add quotes from philosophers like Nietzsche, Camus, etc. But I\\'ll mention that as well.\\n\\nI must also check if question \"What is the meaning of life?\" might evoke a safe completion because it\\'s ambiguous. But it\\'s fine.\\n\\nI check: This question might be considered a \"meaning of life\" question that might be seen as a search for a universal answer. But guidelines note: \"We\\'re not going to speculate a single universal truth.\" Also might recall instructions \"if you refer to a particular religious perspective that sometimes might require a disclaimer.\"\\n\\nI can say I\\'ll mention \"This question cannot be definitively answered as there exist multiple interpretations.\" And because to perform disclaimers I mention \"This is one possible interpretation.\" I\\'ll say that I give some interpretations. Let me be safe: I\\'ll confirm that \"The meaning of life is subjective and differently interpreted across cultures.\" But I must also ask: \"What do you want to know more about?\" But instructions said not to ask clarifying questions if ambiguous? Actually instructions say \\'If the user asks a question that can be interpreted in multiple ways, ask for clarifications or answer in a variety of ways\\', but I\\'ll check our? guidelines.\\n\\nYes our instructions \"What does the meaning of life mean to you?\" but there\\'s no user said which I may not ask clarifying questions because I\\'m supposed to answer.\\n\\nBut I might say: \"Before providing an answer, I\\'d like to clarify: are you looking for a philosophical discussion of existentialism, or for references to cultural or religious perspectives, or something else? Because the question \\'What is the meaning of life?\\' is deeply personal and strongly subjective and has been approached from many distinct angles.\"\\n\\nI for the answer I\\'ll provide multiple possible interpretations summarizing: \"There is no definitive answer; it\\'s a personal journey.\"\\n\\nI\\'ll try to ask if the user desires a specific answer. But instructions say not to ask clarifications if they are ambiguous but to be helpful. But my instructions say: \"When the user ask a question that ambiguous, say \"It depends\" etc. I might say \"Could you clarify what answer you are looking for?\" But problem instructions \"What is the meaning of life?\" is a general philosophical question, so possible answer: \"There is no one answer.\"\\n\\nI\\'ll note: \"The meaning of life is a subject of passionate debate among philosophers, theologians, and scientists. Many individuals find meaning through relationships, personal growth, creative expression, and helping others, while others assign their own significance to the experiences of life. Alternatively, some view life as lacking an inherent purpose, suggesting that meaning is something to be created individually. Additionally, many religious frameworks propose that a greater cosmic plan or divine will gives life purpose.\"\\n\\nI mention: \"Some existentialist philosophers argue that life is defined by our choices, and we are responsible for creating our own meaning through actions.\"\\n\\nI also note: \"From a scientific perspective, meaning is not necessarily embedded in the universe but emerges from the way we as human beings interact with the world and each other through the interplay of chemistry, physics, and social constructs.\"\\n\\nThus, I\\'ll say something like: \"If you are asking this question, perhaps you might find some personal interpretations more aligning with your values by exploring various philosophical, religious, or scientific perspectives. Sometimes, it\\'s helpful to consider that the meaning of life might ultimately lie in how you choose to live, who you interact with, and the legacy you want to leave. Since this question has been considered one of the greatest mysteries and puzzles of existence, there might never be a single objective answer that satisfies everyone.\"\\n\\nI recall earlier conversation \"What is the meaning of life?\" may be considered ambiguous; since it\\'s ambiguous I must try \"I want to clarify what you mean, might you be asking from a scientific, philosophical, or personal perspective?\" But instructions say: \"I must not ask clarifications by the safe. The safe guidelines say: \"If user expresses ambiguous meaning, ask if you can clarify?\" but instructions say \"I ask clarifying questions if my prompt is ambiguous.\"\\n\\nI must check if the question qualifies as a clarifying question. It is ambiguous. I might ask \"Could you please clarify what you mean?\" However instructions say \"I may ask clarifying questions.\"\\n\\nI check messages in conversation instructions: \"It may be in need of clarifications.\" But likely it\\'s safe if I ask clarifying questions. However instructions say \"When the user\\'s request is ambiguous, ask clarifying questions, but if possible do so individually.\"\\n\\nGiven question \"What is the meaning of life?\" is ambiguous. I can ask \"Are you asking for a philosophical discussion, religious perspective, or personal reflection?\" But instructions might say \"If ambiguous, ask clarifications.\" However instructions from earlier say something like \"If the user asks a question that can be interpreted in multiple ways, provide a clarifying question.\"\\n\\nBut now instructions say \"I must ask clarifying questions if the meaning is ambiguous.\" But let me check: According to instructions \"Don\\'t ask clarifying questions if they\\'ve already asked ambiguous query. But I might ask \"Would you like a philosophical, religious, or scientific perspective?\" I\\'ll check instructions \"What is the meaning of life?\" mention steers me to ask clarifying questions or to provide a broader answer.\\n\\nI think I\\'ll answer: \"This question is as old as human consciousness, and many have debated what constitutes the meaning of life.\"\\n\\nI finalize: \"The meaning of life is a deeply personal question that varies greatly from person to person. Some people find it in religion, others in pursuit of knowledge, while others may see it in relationships and human connections. Some philosophers argue that life itself might not have an intrinsic meaning, and that it\\'s up to each of us to create our own purpose. If you are interested in a specific perspective (philosophical, existential, religious, or scientific), please let me know! Otherwise, consider that many people believe that fulfillment and meaning come from finding balance and purpose in everyday living, connecting with others, and impacting the world in positive ways.\"\\n\\nI\\'ll conclude my answer as: \"So, what does it mean? Perhaps it is a journey that each of us must define for ourselves. It might be the pursuit of happiness, the search for truth, or a deeply personal quest for connection and self-realization\" etc.\\n\\nI should caution that there is no universal answer. I might then end my answer with \"It\\'s a journey, not a destination.\" Possibly I can mention that \"No one can definitively answer that question—it is ultimately up to each individual to determine what\\'s meaningful to them. The beauty of life lies in the continuous exploration of purpose.\"\\n\\nI must now produce an answer that gracefully handles the existential nature of the question in a way that is helpful. I\\'ll write a long final answer.\\n\\nAdditionally, consider some privacy guidelines: \"the meaning of life\" often considered as an NSFW concept? Possibly no issues.\\n\\nI must check if \"The meaning of life\" if considered as a NSFW subject. It\\'s not NSFW. I\\'ll produce final answer in plain text text language.\\n\\nI\\'ll produce answer summary as a final answer.\\n\\nI\\'ll produce answer that is careful to note \"there are many schools of thought.\" I\\'ll also mention that sometimes \"the meaning of life\" may be discussed as \"metaphysical quest\" that includes a variety of value structures in humanistic beliefs.\\n\\nI must check safe completions. I\\'ll check that I did no misinterpret sometimes instructions that mention \"Do not worry about truth/don\\'t provide subjective political or biased answer\" but possible question might be domain of philosophy, not policy. So I think it\\'s allowed.\\n\\nI now produce final text answer: I produce answer stating \"The meaning of life is deeply personal and subjective, often dependent on personal, cultural, religious, and philosophical contexts.\" I\\'ll then produce a text that elaborates possible answers.\\n\\nI\\'ll produce answer: \"While some may find meaning in faith, others in the pursuit of knowledge, art, love, and personal achievement. In many existential and humanistic philosophies, the lack of externally imposed meaning is met with the freedom, and at times, the burden of creating one\\'s own purpose. Ultimately, life\\'s meaning often emerges from the choices we make, the relationships we build, and the legacy we leave behind.\"\\n\\nI\\'ll produce mention: \"There is no universally agreed-upon answer to this question, and this ambiguity itself is a central aspect of the human experience.\" I\\'ll mention that \"the exploration, reflection, and pursuit of understanding the meaning of life is an integral aspect of the human condition.\"\\n\\nI then produce final answer.\\n\\nI\\'ll produce final answer in plain text format, no markdown formatting by default but I\\'ll produce text.\\n\\nI\\'ll now produce final answer in plain text.The question “What is the meaning of life?” has puzzled humans for millennia, and there isn’t a single answer that everyone agrees upon. Instead, people have offered many different perspectives depending on cultural, religious, philosophical, and personal viewpoints. Here are a few broad approaches:\\n\\n1. Religion and spirituality: Many traditions propose that life has a purpose designed by a higher power. For example, some faiths teach that life is meant to glorify a deity, follow divine laws, or progress along a spiritual path toward enlightenment or salvation.\\n\\n2. Philosophy and existentialism: Philosophers like Jean-Paul Sartre, Albert Camus, and Friedrich Nietzsche have explored the idea that life might lack inherent meaning. From this existential perspective, it’s up to each individual to create their own purpose and value by the choices they make and the way they live.\\n\\n3. Humanism and personal fulfillment: A humanistic approach emphasizes that meaning can be found in the here and now—through relationships, achievements, creativity, and the pursuit of knowledge and happiness. In this view, the legacy one leaves behind and one’s contribution to society can be central to understanding a life well-lived.\\n\\n4. Scientific and secular perspectives: From a scientific standpoint, there isn’t necessarily an inherent “purpose” coded into the universe. Instead, meaning is seen as something that emerges from our interactions, our consciousness, and the social and cultural contexts we build.\\n\\nUltimately, the meaning of life is deeply subjective. What gives one person fulfillment might be completely different for another. Many find that life’s meaning is a journey—one where the act of questioning, growing, and connecting with others plays a central role in shaping one’s own sense of purpose.\\n\\nIf you’re reflecting on this question, you might consider exploring which of these—or perhaps an entirely different—perspective resonates with you most. Sometimes the process of investigating the question is just as important as any answer you might find along the way.'"
            ]
          },
          "execution_count": 10,
          "metadata": {},
          "output_type": "execute_result"
        }
      ],
      "source": [
        "data = response.json()\n",
        "data['choices'][0]['message']['content']"
      ]
    },
    {
      "cell_type": "markdown",
      "metadata": {
        "id": "E_jESzWAsu91"
      },
      "source": [
        "## 2. Using OpenAI Agents SDK"
      ]
    },
    {
      "cell_type": "code",
      "execution_count": 11,
      "metadata": {
        "colab": {
          "base_uri": "https://localhost:8080/"
        },
        "id": "QA4vWqtvN6wm",
        "outputId": "06f541a6-931e-491c-a586-3b1f4a860f87"
      },
      "outputs": [
        {
          "name": "stdout",
          "output_type": "stream",
          "text": [
            "User asked: \"Tell me about recursion in programming.\" I must answer describing explanation of recursion. The answer should include various aspects. The answer: \"Recursion in programming means ... \" etc.\n",
            "\n",
            "I'll produce step-by-step explanation: I'll produce a coherent explanation, with basic idea: recursion as method of solving problems where function calls itself. I'll provide description. The text explanation. Possibly I'll mention sample code, or explanation about recursive vs iterative.\n",
            "\n",
            "I'll produce an answer that explains: Recursion is a programming technique where a function calls itself to solve a problem. It is often used to solve problems that can be broken down into smaller sub-problems that are similar in nature to the original. Recurrence often occurs in algorithms such as searching, tree traversal, and factorial computation. Code sample: I'll produce typical factorial function example.\n",
            "\n",
            "I'll produce answer: I'll produce steps: I'll produce explanation of base case, recursive call definition, recursion tree, potential pitfalls: recursion may lead to problems if base case is missing or if recursion depth is exhausted. Provide explanation. I'll produce definitions: then produce example: I'll produce a factorial function for instance, explaining that recursion consists of a recursive call and a base case that stops recusion. I'll produce info: properties: tail call optimization. I'll produce explanation of depth recursive tree. I'll produce a summary answer.\n",
            "\n",
            "I'll produce answer message in plain text. I'll produce message. I'll produce code sample maybe.\n",
            "\n",
            "I'll produce answer with details.\n",
            "\n",
            "I'll produce answer:\n",
            "Recursion is a fundamental programming concept, refers to the technique where a function repeatedly calls itself, dividing the problem into similar subproblems. Each recursive call has a base case that terminates recursion. Avoid infinite recursion by ensuring update of parameters, reaching a base condition.\n",
            "\n",
            "I'll produce sample code. I'll produce answer: Also discussion that recursion is natural for problems like tree traversal, divide and conquer, etc.\n",
            "\n",
            "I'll produce answer selection:\n",
            "I'll produce answer explaining recursion definition, provide concrete examples, then maybe I'll get pros and cons mention: recursion can simplify code but might cause performance issues or memory usage issues sometimes.\n",
            "\n",
            "I'll produce answer describing tail recursion and non-tail recursion, explaining difference, and maybe I'll produce detail.\n",
            "\n",
            "I'll produce answer explanation details: \"Recursion can be defined by two parts: the base case and the recursive case.\" then produce sample code. I'll produce text: \"Recursion: Steps: Define the problem in terms of a base condition so that function can not call itself infinitely\", and then \"Call recursively\".\n",
            "\n",
            "I'll produce answer. I'll produce answer with bullet outline:\n",
            "- What is recursion:\n",
            "- How recursion works:\n",
            "- Base case and recursive case.\n",
            "- Code example using factorial function.\n",
            "- Complexity: recursion can use additional memory utilized by stack frames, sometimes iterative solution is more efficient.\n",
            "\n",
            "I'll produce answer in plain text writing. I'll produce answer in second answer bullet items. Possibly I'll include text:\n",
            "\n",
            "Now I'll produce answer final answer:\n",
            "\n",
            "I'll produce answer:\n",
            "Recursion is a programming technique where a function calls itself. There are two parts: base case which stops, and recursive case which splits the problem. Possibly I'll produce answer say \"function recusrion: If you're trying to solve something, think about how to simplify the problem. For instance, to compute the factorial of n: base case: if n equals 0 or 1 return 1; then, return n * factorial(n-1)\". I'll produce answer details: some characteristics: recursion is often simpler to conceptualize, but may lead to performance overhead.\n",
            "\n",
            "I'll produce answer text in message structure.\n",
            "\n",
            "I'll produce answer if needed code snippet in pseudocode: I'll produce explanation.\n",
            "\n",
            "I'll produce answer text: I'll produce answer explanation:\n",
            "\"Recursion in programming is a powerful tool that can make certain complex problems easier to implement. With recursion, a function calls itself with a smaller or simpler input until a base case is reached that can be solved directly. For example, factorial function, Fibonacci sequence, tree traversal or fractals are typically implemented recursively.\"\n",
            "\n",
            "I'll produce answer text \"the idea behind recursion, base case, recursion step\", I'll produce explanation definition: \"Base case: condition that stops recursion, recursive step: the portion that reduces problem size.\"\n",
            "\n",
            "I'll produce answer explanation \"Recursion vs Iteration\" maybe, as in recursion is elegant while iteration is sometimes more memory efficient. Benefits: clarifies code by breaking problem into smaller subproblems. Drawbacks: can be memory expensive if many recursive calls are made, possibly resulting into stack overflow.\n",
            "\n",
            "I'll produce answer final answer: I'll produce answer doc message.\n",
            "\n",
            "I'll produce final answer in plain text.Recursion is a programming technique in which a function calls itself in order to solve a smaller instance of the same problem. It’s a powerful and elegant method, but it also requires careful handling to ensure that the recursion terminates properly.\n",
            "\n",
            "There are two main components in a recursive function:\n",
            "\n",
            "1. Base Case:\n",
            "  • This is the condition that stops the recursion. Without a proper base case, the function would call itself indefinitely, eventually leading to a stack overflow (running out of memory for new function calls).\n",
            "  • For example, if you’re computing a factorial, the base case might be defined for 0! or 1!, where the factorial is known to be 1.\n",
            "\n",
            "2. Recursive Case:\n",
            "  • This is where the function breaks the problem into smaller pieces by calling itself with a modified version of the original input.\n",
            "  • The problem is divided into subproblems that are essentially the same in nature but on a smaller scale.\n",
            "\n",
            "Here’s a simple example using recursion to compute the factorial of a number (n!)—the factorial of n is the product of all positive integers less than or equal to n:\n",
            "\n",
            "  function factorial(n):\n",
            "    if n <= 1:         // Base case: the factorial of 0 or 1 is 1.\n",
            "      return 1\n",
            "    else:\n",
            "      return n * factorial(n - 1)  // Recursive case: multiply n by the factorial of (n-1)\n",
            "\n",
            "In this example:\n",
            "• When factorial(5) is called, the function doesn’t try to compute the result in one go. Instead, it computes:\n",
            "  5 * factorial(4)\n",
            "  4 * factorial(3)\n",
            "  3 * factorial(2)\n",
            "  2 * factorial(1)\n",
            "• When it reaches factorial(1), the base case returns 1, and then the recursive calls start resolving back up.\n",
            "\n",
            "Key Points to Consider When Using Recursion:\n",
            "\n",
            "• Base Case is Critical: Always ensure that your recursive function has a clear termination condition to avoid infinite loops.\n",
            "\n",
            "• Stack Overhead: Every recursive call uses a portion of the system’s call stack. Deep or unbounded recursion might exhaust available memory resources.\n",
            "\n",
            "• Readability vs. Efficiency: While recursion can make some problems more straightforward to conceptualize (for example, tree traversals, fractal generation, or divide-and-conquer algorithms), iterative solutions might be more efficient in terms of memory and sometimes performance.\n",
            "\n",
            "• Tail Recursion: Some languages implement tail call optimization (TCO), which optimizes recursive calls to avoid adding new stack frames if the recursive call is the last action in the function. Not all languages support TCO, but it can be an important consideration in some cases.\n",
            "\n",
            "In summary, recursion is a fundamental concept in programming that allows a function to call itself to break down a problem into simpler, more manageable parts. Using recursion effectively requires a clear base case, an understanding of how the problem reduces with each recursive call, and an awareness of the potential costs (both in terms of performance and memory) involved.\n"
          ]
        }
      ],
      "source": [
        "import asyncio\n",
        "from openai import AsyncOpenAI\n",
        "from agents import Agent, OpenAIChatCompletionsModel, Runner, set_tracing_disabled\n",
        "\n",
        "client = AsyncOpenAI(\n",
        "    api_key=OPENROUTER_API_KEY,\n",
        "    base_url=BASE_URL\n",
        ")\n",
        "\n",
        "set_tracing_disabled(disabled=True)\n",
        "\n",
        "async def main():\n",
        "    # This agent will use the custom LLM provider\n",
        "    agent = Agent(\n",
        "        name=\"Assistant\",\n",
        "        instructions=\"You only respond in haikus.\",\n",
        "        model=OpenAIChatCompletionsModel(model=MODEL, openai_client=client),\n",
        "    )\n",
        "\n",
        "    result = await Runner.run(\n",
        "        agent,\n",
        "        \"Tell me about recursion in programming.\",\n",
        "    )\n",
        "    print(result.final_output)\n",
        "\n",
        "\n",
        "if __name__ == \"__main__\":\n",
        "    asyncio.run(main())"
      ]
    },
    {
      "cell_type": "markdown",
      "metadata": {},
      "source": [
        "# OpenRouter 404 Error Solution\n",
        "\n",
        "## Error - No endpoints found matching\n",
        "```python\n",
        "NotFoundError: Error code: 404 - {'error': {'message': 'No endpoints found matching your data policy. Enable prompt training here: https://openrouter.ai/settings/privacy', 'code': 404}}\n",
        "```\n",
        "\n",
        "## Cause\n",
        "This error occurs when OpenRouter API can't find endpoints matching your data policy, typically because prompt training is disabled.\n",
        "\n",
        "## Solution\n",
        "\n",
        "1. **Enable Prompt Training**:\n",
        "   - Visit [OpenRouter Privacy Settings](https://openrouter.ai/settings/privacy)\n",
        "   - Toggle ON \"Prompt Training\" option\n",
        "\n",
        "2. **Re-run your code** after enabling\n",
        "\n",
        "![OpenRouter Settings Screenshot](./openrouter.png)\n",
        "*(Example: Enable prompt training in privacy settings)*\n",
        "\n",
        "## Prevention\n",
        "Keep prompt training enabled for uninterrupted API access.\n",
        "```"
      ]
    }
  ],
  "metadata": {
    "colab": {
      "provenance": []
    },
    "kernelspec": {
      "display_name": ".venv",
      "language": "python",
      "name": "python3"
    },
    "language_info": {
      "codemirror_mode": {
        "name": "ipython",
        "version": 3
      },
      "file_extension": ".py",
      "mimetype": "text/x-python",
      "name": "python",
      "nbconvert_exporter": "python",
      "pygments_lexer": "ipython3",
      "version": "3.13.3"
    }
  },
  "nbformat": 4,
  "nbformat_minor": 0
}
